{
 "cells": [
  {
   "cell_type": "code",
   "execution_count": 1,
   "metadata": {},
   "outputs": [],
   "source": [
    "import cv2\n",
    "import numpy as np"
   ]
  },
  {
   "cell_type": "code",
   "execution_count": 7,
   "metadata": {},
   "outputs": [],
   "source": [
    "img = np.zeros(shape = (512,512,3), dtype = np.uint8) +255\n",
    "cx = img.shape[0]//2\n",
    "cy = img.shape[1]//2\n",
    "\n",
    "for r in range(200,0, -100):\n",
    "    cv2.circle(img,(cx,cy), r, color = (255,0,0))\n",
    "    \n",
    "cv2.circle(img,(cx,cy),radius=50, color= (0,0,255), thickness = -1)\n",
    "\n",
    "cv2.imshow('img',img)\n",
    "cv2.waitKey()\n",
    "cv2.destroyAllWindows()"
   ]
  },
  {
   "cell_type": "code",
   "execution_count": 3,
   "metadata": {},
   "outputs": [
    {
     "data": {
      "text/plain": [
       "512"
      ]
     },
     "execution_count": 3,
     "metadata": {},
     "output_type": "execute_result"
    }
   ],
   "source": [
    "img.shape[0]"
   ]
  },
  {
   "cell_type": "code",
   "execution_count": 4,
   "metadata": {},
   "outputs": [
    {
     "data": {
      "text/plain": [
       "512"
      ]
     },
     "execution_count": 4,
     "metadata": {},
     "output_type": "execute_result"
    }
   ],
   "source": [
    "img.shape[1]"
   ]
  },
  {
   "cell_type": "code",
   "execution_count": 5,
   "metadata": {},
   "outputs": [],
   "source": [
    "#cx,cy로 영상의 중심을 정수로 계산\n",
    "#for문으로 반지름r을 200,100으로 반복\n",
    "#cv2.circle()로 원의 중심(cx,cy,반지름r,색상(255,0,0)) 원 그리기\n",
    "#cv2.circle()함수로 thickness=-1로 하여 반지름50, (0,0,255)색 원 그리기"
   ]
  },
  {
   "cell_type": "code",
   "execution_count": 13,
   "metadata": {},
   "outputs": [],
   "source": [
    "img = np.zeros(shape = (512,512,3), dtype = np.uint8) +255\n",
    "cx = img.shape[0]//\n",
    "cy = img.shape[1]//\n",
    "\n",
    "for r in range(200,0, -100):\n",
    "    cv2.circle(img,(cx,cy), r, color = (255,0,0))\n",
    "    \n",
    "cv2.circle(img,(cx,cy),radius=50, color= (0,0,255), thickness = -1)\n",
    "\n",
    "cv2.imshow('img',img)\n",
    "cv2.waitKey()\n",
    "cv2.destroyAllWindows()"
   ]
  },
  {
   "cell_type": "code",
   "execution_count": 34,
   "metadata": {},
   "outputs": [],
   "source": [
    "img = np.zeros(shape=(512,512,3), dtype=np.uint8)+255\n",
    "ptCenter = img.shape[0]//2, img.shape[1]//2\n",
    "size = 200,100\n",
    "\n",
    "cv2.ellipse(img,ptCenter,size,0,0,360,(255,0,0))\n",
    "cv2.ellipse(img,ptCenter,size,45,0,360,(0,0,255))\n",
    "\n",
    "box = (ptCenter,size,0)\n",
    "cv2.ellipse(img,box,(255,0,0),5)\n",
    "\n",
    "box = (ptCenter,size,45)\n",
    "cv2.ellipse(img,box,(0,0,255),5)\n",
    "\n",
    "cv2.imshow('img',img)\n",
    "cv2.waitKey()\n",
    "cv2.destroyAllWindows()"
   ]
  },
  {
   "cell_type": "code",
   "execution_count": 18,
   "metadata": {},
   "outputs": [],
   "source": [
    "#cv2.ellipse()로 타원의 중심(ptcenter), 축절반크기(size),각도(angle)0,시작각도0,끝각도 360, 색상(255,0,0)인 타원을 그린다\n",
    "#cv2.ellipse()로 타원의 중심(ptcenter), 축절반크기(size),각도(angle)0,시작각도45,끝각도 360, 색상(0,0,255)인 타원을 그린다\n",
    "#중심 ptCenter, 크기 size, 각도0인 box로 색상(255,0,0), 두께 5인 타원을그리고\n",
    "#크기 size는 타원의 바운딩박스의 크기이며 첫번째 그린 타원 크기의 절반\n",
    "#중심 ptCenter, 크기 size, 각도 45인 box로 색상(0,0,255) 두께 5인 타원을 그리고\n",
    "#크기 size는 타원의 바운딩박스의 크기이며 두번째 타원크기의 절반"
   ]
  },
  {
   "cell_type": "code",
   "execution_count": 33,
   "metadata": {},
   "outputs": [],
   "source": [
    "img = np.zeros(shape=(512,512,3), dtype=np.uint8)+255\n",
    "ptCenter = img.shape[0]//2, img.shape[1]//2\n",
    "size = 200,100\n",
    "\n",
    "cv2.ellipse(img,ptCenter,size,0,45,360,(255,0,0))\n",
    "\n",
    "cv2.imshow('img',img)\n",
    "cv2.waitKey()\n",
    "cv2.destroyAllWindows()"
   ]
  },
  {
   "cell_type": "code",
   "execution_count": 35,
   "metadata": {},
   "outputs": [],
   "source": [
    "#각도는 시계방향으로 회전, 시작각도는 0이 아니면 이어지지않은 도형을 그림. 끝각도도 마찬가지."
   ]
  },
  {
   "cell_type": "code",
   "execution_count": 38,
   "metadata": {},
   "outputs": [],
   "source": [
    "img = np.zeros(shape=(512,512,3), dtype=np.uint8)+255\n",
    "ptCenter = img.shape[0]//2, img.shape[1]//2\n",
    "pts1 = np.array([[100,100],[200,100],[200,200],[100,200]])\n",
    "pts2 = np.array([[300,200],[400,100],[400,200]])\n",
    "\n",
    "cv2.polylines(img, [pts1,pts2], isClosed = True, color=(255,0,0))\n",
    "\n",
    "cv2.imshow('img',img)\n",
    "cv2.waitKey()\n",
    "cv2.destroyAllWindows()"
   ]
  },
  {
   "cell_type": "code",
   "execution_count": 37,
   "metadata": {},
   "outputs": [],
   "source": [
    "#4개의 좌표를 갖는 다각형을 pts1배열에 생성. 3개의 좌표를 갖는 배열을 pts2 배열에 생성\n",
    "#polylines()함수로 닫힌 다각형을 (255,0,0)색상으로 그리기"
   ]
  },
  {
   "cell_type": "code",
   "execution_count": 42,
   "metadata": {},
   "outputs": [],
   "source": [
    "img = np.zeros(shape=(512,512,3), dtype=np.uint8) + 255\n",
    "\n",
    "ptCenter = img.shape[0]//2, img.shape[1]//2\n",
    "size = 200,100\n",
    "\n",
    "cv2.ellipse(img, ptCenter, size, 0, 0, 360, (255, 0, 0))\n",
    "pts1 = cv2.ellipse2Poly(ptCenter, size,  0, 0, 360, delta=45)\n",
    "\n",
    "cv2.ellipse(img, ptCenter, size, 45, 0, 360, (255, 0, 0))\n",
    "pts2 = cv2.ellipse2Poly(ptCenter, size, 45, 0, 360, delta=45)\n",
    "\n",
    "cv2.polylines(img, [pts1, pts2], isClosed=True, color=(0, 0, 255))\n",
    "\n",
    "cv2.imshow('img', img)\n",
    "cv2.waitKey()\n",
    "cv2.destroyAllWindows()\n"
   ]
  },
  {
   "cell_type": "code",
   "execution_count": 43,
   "metadata": {},
   "outputs": [],
   "source": [
    "#이전에 그린 타원형 안에 다각형을 넣는건데, delta만 유의하면 크게 다를것이없다.\n",
    "#delta의 숫자는 각도, 45도를 이루도록 다각형을 구성하는 것이다.\n",
    "#delta값의 변경에 따라 다양한 다각현 구성 가능"
   ]
  },
  {
   "cell_type": "code",
   "execution_count": 52,
   "metadata": {},
   "outputs": [],
   "source": [
    "img = np.zeros(shape=(512,512,3),dtype=np.uint8) + 255\n",
    "\n",
    "x,y = 256,256\n",
    "size = 200\n",
    "\n",
    "for angle in range(0,90,5):\n",
    "    rect = ((256,256), (size,size), angle)\n",
    "    box = cv2.boxPoints(rect).astype(np.int32)\n",
    "    r = np.random.randint(256)\n",
    "    g = np.random.randint(256)\n",
    "    b = np.random.randint(256)\n",
    "    cv2.polylines(img,[box],True,(r,g,b),2)\n",
    "    \n",
    "cv2.imshow('img',img)\n",
    "cv2.waitKey()\n",
    "cv2.destroyAllWindows()"
   ]
  },
  {
   "cell_type": "code",
   "execution_count": 54,
   "metadata": {},
   "outputs": [],
   "source": [
    "img = np.zeros(shape=(512,512,3), dtype=np.uint8)+255\n",
    "\n",
    "pts1 = np.array([[100,100],[200,100],[200,200],[100,200]])\n",
    "pts2 = np.array([[300,200],[400,100],[400,200]])\n",
    "\n",
    "cv2.fillConvexPoly(img,pts1,color=(255,0,0))\n",
    "\n",
    "cv2.fillPoly(img,[pts2],color=(0,0,255))\n",
    "cv2.imshow('img',img)\n",
    "cv2.waitKey()\n",
    "cv2.destroyAllWindows()"
   ]
  },
  {
   "cell_type": "code",
   "execution_count": 56,
   "metadata": {},
   "outputs": [],
   "source": [
    "#pts1로 사각형만들고, pts2로 삼각형을 만든다.\n",
    "#cv2.fillConvexPoly로 pts1을 파랑색으로 채운다\n",
    "\n",
    "#cv2.fillPoly로 pts2를 빨간색으로 채운다"
   ]
  },
  {
   "cell_type": "code",
   "execution_count": 58,
   "metadata": {},
   "outputs": [],
   "source": [
    "#문자열 출력하기\n",
    "img = np.zeros(shape=(512,512,3),dtype=np.uint8)+255\n",
    "\n",
    "text= 'openCV Programming'\n",
    "org = (50,100)\n",
    "font=cv2.FONT_HERSHEY_SIMPLEX\n",
    "cv2.putText(img,text,org,font,1,(255,0,0),2)\n",
    "\n",
    "size,baseLine=cv2.getTextSize(text,font,1,2)\n",
    "\n",
    "cv2.rectangle(img,org,(org[0]+size[0],org[1]-size[1]), (0,0,255))\n",
    "cv2.circle(img,org,3,(0,255,0),2)\n",
    "\n",
    "cv2.imshow('img',img)\n",
    "cv2.waitKey()\n",
    "cv2.destroyAllWindows()"
   ]
  },
  {
   "cell_type": "code",
   "execution_count": 59,
   "metadata": {},
   "outputs": [],
   "source": [
    "#키보드 이벤트처리\n",
    "#0310.py\n",
    "import numpy as np\n",
    "import cv2\n",
    "\n",
    "width, height = 512, 512\n",
    "x, y, R = 256, 256, 50\n",
    "direction = 0 # right\n",
    "\n",
    "while True:   \n",
    "    key = cv2.waitKeyEx(30)    \n",
    "    if key == 0x1B: \n",
    "        break;\n",
    "    \n",
    "# 방향키 방향전환 \n",
    "    elif key == 0x270000: # right\n",
    "        direction = 0\n",
    "    elif key == 0x280000: # down\n",
    "        direction = 1\n",
    "    elif key == 0x250000: # left\n",
    "        direction = 2\n",
    "    elif key == 0x260000: # up\n",
    "        direction = 3\n",
    "        \n",
    "# 방향으로 이동 \n",
    "    if direction == 0:     # right\n",
    "        x += 10\n",
    "    elif direction == 1:   # down\n",
    "        y += 10\n",
    "    elif direction == 2:   # left\n",
    "        x -= 10\n",
    "    else: # 3, up\n",
    "        y -= 10\n",
    "        \n",
    "#   경계확인 \n",
    "    if x < R:\n",
    "        x = R\n",
    "        direction = 0\n",
    "    if x > width - R:\n",
    "        x = width - R\n",
    "        direction = 2\n",
    "    if y < R:\n",
    "        y = R\n",
    "        direction = 1\n",
    "    if y > height - R:\n",
    "        y = height - R\n",
    "        direction = 3\n",
    "        \n",
    "# 지우고, 그리기        \n",
    "    img = np.zeros((width, height,3), np.uint8) + 255 # 지우기\n",
    "    cv2.circle(img, (x, y), R, (0, 0, 255), -1) \n",
    "    cv2.imshow('img', img)\n",
    "    \n",
    "cv2.destroyAllWindows()\n"
   ]
  },
  {
   "cell_type": "code",
   "execution_count": null,
   "metadata": {},
   "outputs": [],
   "source": []
  }
 ],
 "metadata": {
  "kernelspec": {
   "display_name": "Python 3",
   "language": "python",
   "name": "python3"
  },
  "language_info": {
   "codemirror_mode": {
    "name": "ipython",
    "version": 3
   },
   "file_extension": ".py",
   "mimetype": "text/x-python",
   "name": "python",
   "nbconvert_exporter": "python",
   "pygments_lexer": "ipython3",
   "version": "3.8.3"
  }
 },
 "nbformat": 4,
 "nbformat_minor": 4
}
