{
 "cells": [
  {
   "cell_type": "code",
   "execution_count": 1,
   "metadata": {},
   "outputs": [],
   "source": [
    "import cv2\n",
    "src = cv2.imread('./OpenCV_Python/data/lena.jpg')\n",
    "\n",
    "dst1 = cv2.rotate(src, cv2.ROTATE_90_CLOCKWISE)\n",
    "dst2 = cv2.rotate(src, cv2.ROTATE_90_COUNTERCLOCKWISE)\n",
    "\n",
    "cv2.imshow('dst1',  dst1)\n",
    "cv2.imshow('dst2',  dst2)\n",
    "cv2.waitKey()    \n",
    "cv2.destroyAllWindows()\n"
   ]
  },
  {
   "cell_type": "code",
   "execution_count": 2,
   "metadata": {},
   "outputs": [],
   "source": [
    "\n",
    "src = cv2.imread('./OpenCV_Python/data/lena.jpg')\n",
    "\n",
    "rows, cols, channels = src.shape\n",
    "M1 = cv2.getRotationMatrix2D( (rows/2, cols/2),  45, 0.5 )\n",
    "M2 = cv2.getRotationMatrix2D( (rows/2, cols/2), -45, 1.0 )\n",
    "\n",
    "dst1 = cv2.warpAffine( src, M1, (rows, cols))\n",
    "dst2 = cv2.warpAffine( src, M2, (rows, cols))\n",
    "\n",
    "cv2.imshow('dst1',  dst1)\n",
    "cv2.imshow('dst2',  dst2)\n",
    "cv2.waitKey()    \n",
    "cv2.destroyAllWindows()\n"
   ]
  },
  {
   "cell_type": "code",
   "execution_count": 3,
   "metadata": {},
   "outputs": [],
   "source": [
    "import cv2\n",
    "import numpy as np\n",
    "\n",
    "src1 = cv2.imread('./OpenCV_Python/data/lena.jpg', cv2.IMREAD_GRAYSCALE)\n",
    "src2 = np.zeros(shape=(512,512), dtype=np.uint8) + 100\n",
    "\n",
    "dst1 = src1 + src2\n",
    "dst2 = cv2.add(src1, src2)\n",
    "#dst2 = cv2.add(src1, src2, dtype = cv2.CV_8U)\n",
    "\n",
    "cv2.imshow('dst1',  dst1)\n",
    "cv2.imshow('dst2',  dst2)\n",
    "cv2.waitKey()    \n",
    "cv2.destroyAllWindows()\n"
   ]
  },
  {
   "cell_type": "code",
   "execution_count": 5,
   "metadata": {},
   "outputs": [],
   "source": [
    "src1 = cv2.imread('./OpenCV_Python/data/lena.jpg')\n",
    "src2 = cv2.imread('./OpenCV_Python/data/opencv_logo.png')\n",
    "cv2.imshow('src2',  src2)\n",
    "\n",
    "#1\n",
    "rows,cols,channels = src2.shape\n",
    "roi = src1[0:rows, 0:cols]\n",
    "\n",
    "#2\n",
    "gray = cv2.cvtColor(src2,cv2.COLOR_BGR2GRAY)\n",
    "ret, mask = cv2.threshold(gray, 160, 255, cv2.THRESH_BINARY)\n",
    "mask_inv = cv2.bitwise_not(mask)\n",
    "cv2.imshow('mask',  mask)\n",
    "cv2.imshow('mask_inv',  mask_inv)\n",
    "\n",
    "#3\n",
    "src1_bg = cv2.bitwise_and(roi, roi, mask = mask)\n",
    "cv2.imshow('src1_bg',  src1_bg)\n",
    "\n",
    "#4\n",
    "src2_fg = cv2.bitwise_and(src2, src2, mask = mask_inv)\n",
    "cv2.imshow('src2_fg',  src2_fg)\n",
    "\n",
    "#5\n",
    "##dst = cv2.add(src1_bg, src2_fg)\n",
    "dst = cv2.bitwise_or(src1_bg, src2_fg)\n",
    "cv2.imshow('dst',  dst)\n",
    "\n",
    "#6\n",
    "src1[0:rows, 0:cols] = dst\n",
    "\n",
    "cv2.imshow('result',src1)\n",
    "cv2.waitKey(0)\n",
    "cv2.destroyAllWindows()\n"
   ]
  },
  {
   "cell_type": "code",
   "execution_count": 8,
   "metadata": {},
   "outputs": [
    {
     "name": "stdout",
     "output_type": "stream",
     "text": [
      "n =  0\n"
     ]
    }
   ],
   "source": [
    "src1 = cv2.imread('./OpenCV_Python/data/lena.jpg', cv2.IMREAD_GRAYSCALE)\n",
    "src2 = np.zeros(shape=(512,512), dtype=np.uint8)+255\n",
    "\n",
    "dst1 = 255 - src1\n",
    "dst2 = cv2.subtract(src2, src1)\n",
    "dst3 = cv2.compare(dst1, dst2, cv2.CMP_NE) # cv2.CMP_EQ\n",
    "n    = cv2.countNonZero(dst3)\n",
    "print('n = ', n)\n",
    "\n",
    "cv2.imshow('dst1',  dst1)\n",
    "cv2.imshow('dst2',  dst2)\n",
    "cv2.waitKey()    \n",
    "cv2.destroyAllWindows()\n"
   ]
  },
  {
   "cell_type": "code",
   "execution_count": 9,
   "metadata": {},
   "outputs": [
    {
     "name": "stdout",
     "output_type": "stream",
     "text": [
      "src: 18.0 248.0 (265, 198) (116, 273)\n",
      "dst: 100.0 200.0 (265, 198) (116, 273)\n"
     ]
    }
   ],
   "source": [
    "src = cv2.imread('./OpenCV_Python/data/lena.jpg', cv2.IMREAD_GRAYSCALE)\n",
    "\n",
    "minVal, maxVal, minLoc, maxLoc = cv2.minMaxLoc(src)\n",
    "print('src:', minVal, maxVal, minLoc, maxLoc)\n",
    "\n",
    "dst = cv2.normalize(src, None, 100, 200, cv2.NORM_MINMAX)\n",
    "minVal, maxVal, minLoc, maxLoc = cv2.minMaxLoc(dst)\n",
    "print('dst:', minVal, maxVal, minLoc, maxLoc)\n",
    "\n",
    "cv2.imshow('dst',  dst)\n",
    "cv2.waitKey()    \n",
    "cv2.destroyAllWindows()\n"
   ]
  },
  {
   "cell_type": "code",
   "execution_count": 13,
   "metadata": {},
   "outputs": [],
   "source": [
    "import cv2\n",
    "import numpy as np\n",
    "import time\n",
    "\n",
    "dst = np.full((512,512,3), (255, 255, 255), dtype= np.uint8)\n",
    "nPoints = 100\n",
    "pts = np.zeros((1, nPoints, 2), dtype=np.uint16)\n",
    "\n",
    "cv2.setRNGSeed(int(time.time()))\n",
    "cv2.randu(pts, (0, 0), (512, 512))\n",
    "            \n",
    "# draw points\n",
    "for k in range(nPoints):\n",
    "    x, y = pts[0, k][:] # pts[0, k, :]\n",
    "    cv2.circle(dst,(x,y),radius=5,color=(0,0,255),thickness=-1)\n",
    "    \n",
    "cv2.imshow('dst',  dst)\n",
    "cv2.waitKey()    \n",
    "cv2.destroyAllWindows()\n"
   ]
  },
  {
   "cell_type": "code",
   "execution_count": 14,
   "metadata": {},
   "outputs": [],
   "source": [
    "import cv2\n",
    "import numpy as np\n",
    "import time\n",
    "\n",
    "dst = np.full((512,512,3), (255, 255, 255), dtype= np.uint8)\n",
    "nPoints = 100\n",
    "pts = np.zeros((1, nPoints, 2), dtype=np.uint16)\n",
    "\n",
    "cv2.setRNGSeed(int(time.time()))\n",
    "cv2.randn(pts, mean=(256, 256), stddev=(50, 50))\n",
    "            \n",
    "# draw points\n",
    "for k in range(nPoints):\n",
    "    x, y = pts[0][k, :] # pts[0, k, :]\n",
    "    cv2.circle(dst,(x,y),radius=5,color=(0,0,255),thickness=-1)\n",
    "    \n",
    "cv2.imshow('dst', dst)                \n",
    "cv2.waitKey()    \n",
    "cv2.destroyAllWindows()\n"
   ]
  },
  {
   "cell_type": "code",
   "execution_count": null,
   "metadata": {},
   "outputs": [],
   "source": []
  }
 ],
 "metadata": {
  "kernelspec": {
   "display_name": "Python 3",
   "language": "python",
   "name": "python3"
  },
  "language_info": {
   "codemirror_mode": {
    "name": "ipython",
    "version": 3
   },
   "file_extension": ".py",
   "mimetype": "text/x-python",
   "name": "python",
   "nbconvert_exporter": "python",
   "pygments_lexer": "ipython3",
   "version": "3.8.3"
  }
 },
 "nbformat": 4,
 "nbformat_minor": 4
}
