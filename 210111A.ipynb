{
 "cells": [
  {
   "cell_type": "code",
   "execution_count": 2,
   "metadata": {},
   "outputs": [],
   "source": [
    "import cv2\n",
    "import numpy as np"
   ]
  },
  {
   "cell_type": "code",
   "execution_count": 5,
   "metadata": {},
   "outputs": [
    {
     "name": "stdout",
     "output_type": "stream",
     "text": [
      "img.ndim =  3\n",
      "img.shape =  (512, 512, 3)\n",
      "img.dtype =  uint8\n",
      "img.dtype =  int32\n",
      "img.dtype=  uint8\n"
     ]
    }
   ],
   "source": [
    "img = cv2.imread('./OpenCV_Python/data/lena.jpg')\n",
    "\n",
    "print('img.ndim = ', img.ndim)\n",
    "print('img.shape = ', img.shape)\n",
    "print('img.dtype = ', img.dtype)\n",
    "\n",
    "img = img.astype(np.int32)\n",
    "print('img.dtype = ', img.dtype)\n",
    "\n",
    "img = np.uint8(img)\n",
    "print('img.dtype= ',img.dtype)"
   ]
  },
  {
   "cell_type": "code",
   "execution_count": 7,
   "metadata": {},
   "outputs": [
    {
     "name": "stdout",
     "output_type": "stream",
     "text": [
      "[[  0 143 145 132 147 144 142 139 132 138]\n",
      " [138 138 143 151 137 144 139 139 138 138]\n",
      " [132 139 153 140 133 136 143 138 137 128]\n",
      " [137 146 138 125 132 145 139 142 130 128]\n",
      " [149 139 130 137 140 145 136 133 132 141]\n",
      " [141 139 134 149 149 137 132 127 140 140]\n",
      " [142 148 139 142 144 138 146 135 131 130]\n",
      " [151 146 136 131 142 144 149 135 126 132]\n",
      " [147 131 135 138 147 139 128 125 134 138]\n",
      " [135 132 149 142 134 128 122 135 138 129]]\n"
     ]
    }
   ],
   "source": [
    "# 0403.py\n",
    "import cv2\n",
    "##import numpy as np\n",
    "\n",
    "img = cv2.imread('./OpenCV_Python/data/lena.jpg', cv2.IMREAD_GRAYSCALE)\n",
    "img[100, 200] = 0  # 화소값(밝기,그레이스케일) 변경\n",
    "print(img[100:110, 200:210]) # ROI 접근\n",
    "\n",
    "##for y in range(100, 400):\n",
    "##    for x in range(200, 300):\n",
    "##        img[y, x] = 0\n",
    "\n",
    "img[100:400, 200:300] = 0    # ROI 접근\n",
    "\n",
    "cv2.imshow('img', img)\n",
    "cv2.waitKey()\n",
    "cv2.destroyAllWindows()\n"
   ]
  },
  {
   "cell_type": "code",
   "execution_count": 9,
   "metadata": {},
   "outputs": [
    {
     "name": "stdout",
     "output_type": "stream",
     "text": [
      "[[255   0   0]\n",
      " [116 115 207]\n",
      " [120 116 211]\n",
      " [107 103 198]\n",
      " [119 121 209]\n",
      " [116 118 206]\n",
      " [115 114 206]\n",
      " [112 111 203]\n",
      " [104 105 195]\n",
      " [110 112 200]]\n"
     ]
    }
   ],
   "source": [
    "img = cv2.imread('./OpenCV_Python/data/lena.jpg') # cv2.IMREAD_COLOR\n",
    "img[100, 200] = [255, 0, 0]  # 컬러(BGR) 변경\n",
    "print(img[100, 200:210]) # ROI 접근\n",
    "\n",
    "##for y in range(100, 400):\n",
    "##    for x in range(200, 300):\n",
    "##        img[y, x] = [255, 0, 0]    # 파랑색(blue)으로 변경\n",
    "\n",
    "img[100:400, 200:300] = [255, 0, 0]  # ROI 접근\n",
    "    \n",
    "cv2.imshow('img', img)\n",
    "cv2.waitKey()\n",
    "cv2.destroyAllWindows()\n"
   ]
  },
  {
   "cell_type": "code",
   "execution_count": 10,
   "metadata": {},
   "outputs": [],
   "source": [
    "# 0405.py\n",
    "import cv2\n",
    "##import numpy as np\n",
    "\n",
    "img = cv2.imread('./OpenCV_Python/data/lena.jpg') # cv2.IMREAD_COLOR\n",
    "\n",
    "##for y in range(100, 400):\n",
    "##    for x in range(200, 300):\n",
    "##        img[y, x, 0] = 255      # B-채널을 255로 변경\n",
    "        \n",
    "img[100:400, 200:300, 0] = 255  # B-채널을 255로 변경\n",
    "img[100:400, 300:400, 1] = 255  # G-채널을 255로 변경\n",
    "img[100:400, 400:500, 2] = 255  # R-채널을 255로 변경\n",
    "\n",
    "cv2.imshow('img', img)\n",
    "cv2.waitKey()\n",
    "cv2.destroyAllWindows()\n"
   ]
  },
  {
   "cell_type": "code",
   "execution_count": 19,
   "metadata": {},
   "outputs": [],
   "source": [
    "# 0406.py\n",
    "import cv2\n",
    "import numpy as np\n",
    "\n",
    "src = cv2.imread('./OpenCV_Python/data/lena.jpg', cv2.IMREAD_GRAYSCALE)\n",
    "dst = np.zeros(src.shape, dtype=src.dtype)\n",
    "\n",
    "N = 512 # 8, 32, 64\n",
    "height, width = src.shape    # 그레이스케일 영상\n",
    "##height, width,_ = src.shape # 컬러영상\n",
    "\n",
    "h = height // N\n",
    "w = width  // N\n",
    "for i in range(N):\n",
    "    for j in range(N):\n",
    "        y = i*h\n",
    "        x = j*w       \n",
    "        roi = src[y:y+h, x:x+w]\n",
    "        dst[y:y+h, x:x+w] = cv2.mean(roi)[0]   # 그레이스케일 영상\n",
    "##        dst[y:y+h, x:x+w] = cv2.mean(roi)[0:3] # 컬러영상\n",
    "        \n",
    "cv2.imshow('dst', dst)\n",
    "cv2.waitKey()\n",
    "cv2.destroyAllWindows()\n"
   ]
  },
  {
   "cell_type": "code",
   "execution_count": 23,
   "metadata": {},
   "outputs": [
    {
     "name": "stdout",
     "output_type": "stream",
     "text": [
      "roi = (155, 233, 297, 187)\n"
     ]
    }
   ],
   "source": [
    "# 0407.py\n",
    "import cv2\n",
    " \n",
    "src = cv2.imread('./OpenCV_Python/data/lena.jpg', cv2.IMREAD_GRAYSCALE)\n",
    "roi = cv2.selectROI(src)\n",
    "print('roi =', roi)\n",
    "\n",
    "img = src[roi[1]:roi[1]+roi[3],\n",
    "               roi[0]:roi[0]+roi[2]]\n",
    "\n",
    "cv2.imshow('Img', img)\n",
    "cv2.waitKey()\n",
    "cv2.destroyAllWindows()\n",
    "#roi selector"
   ]
  },
  {
   "cell_type": "code",
   "execution_count": 27,
   "metadata": {},
   "outputs": [
    {
     "name": "stdout",
     "output_type": "stream",
     "text": [
      "rects = ()\n"
     ]
    }
   ],
   "source": [
    "src = cv2.imread('./OpenCV_Python/data/lena.jpg', cv2.IMREAD_GRAYSCALE)\n",
    "rects = cv2.selectROIs('src', src, False, True)\n",
    "print('rects =', rects)\n",
    "\n",
    "for r in rects:\n",
    "    cv2.rectangle(src, (r[0], r[1]), (r[0]+r[2], r[1]+r[3]), 255)    \n",
    "##    img = src[r[1]:r[1]+r[3], r[0]:r[0]+r[2]]\n",
    "##    cv2.imshow('Img', img)\n",
    "##    cv2.waitKey()\n",
    "\n",
    "cv2.imshow('src', src)\n",
    "cv2.waitKey()    \n",
    "cv2.destroyAllWindows()\n",
    "\n",
    "\n",
    "#space와 enter로 다중 ROI Selector 만들기"
   ]
  },
  {
   "cell_type": "code",
   "execution_count": 29,
   "metadata": {},
   "outputs": [],
   "source": [
    "src = cv2.imread('./OpenCV_Python/data/lena.jpg', cv2.IMREAD_GRAYSCALE)\n",
    "\n",
    "##dst = src          #참조\n",
    "dst = src.copy()     #복사 \n",
    "dst[100:400, 200:300] = 0\n",
    "\n",
    "cv2.imshow('src', src)\n",
    "cv2.imshow('dst', dst)\n",
    "cv2.waitKey()    \n",
    "cv2.destroyAllWindows()\n",
    "\n",
    "#원본 + ROI체크된 복사본 만들기"
   ]
  },
  {
   "cell_type": "code",
   "execution_count": 31,
   "metadata": {},
   "outputs": [],
   "source": [
    "src = cv2.imread('./OpenCV_Python/data/lena.jpg', cv2.IMREAD_GRAYSCALE)\n",
    "shape = src.shape[0], src.shape[1], 3\n",
    "dst = np.zeros(shape, dtype=np.uint8)\n",
    "\n",
    "dst[:,:,0] = src      # B-채널 \n",
    "##dst[:,:,1] = src    # G-채널 \n",
    "##dst[:,:,2] = src    # R-채널 \n",
    "\n",
    "dst[100:400, 200:300, :] = [255, 255, 255]\n",
    "\n",
    "cv2.imshow('src', src)\n",
    "cv2.imshow('dst', dst)\n",
    "cv2.waitKey()    \n",
    "cv2.destroyAllWindows()\n"
   ]
  },
  {
   "cell_type": "code",
   "execution_count": 32,
   "metadata": {},
   "outputs": [
    {
     "name": "stdout",
     "output_type": "stream",
     "text": [
      "<class 'list'>\n",
      "<class 'numpy.ndarray'>\n"
     ]
    }
   ],
   "source": [
    "src = cv2.imread('./OpenCV_Python/data/lena.jpg')\n",
    "\n",
    "dst = cv2.split(src) \n",
    "print(type(dst))\n",
    "print(type(dst[0])) # type(dst[1]), type(dst[2])\n",
    "\n",
    "cv2.imshow('blue',  dst[0])\n",
    "cv2.imshow('green', dst[1])\n",
    "cv2.imshow('red',   dst[2])\n",
    "cv2.waitKey()    \n",
    "cv2.destroyAllWindows()\n"
   ]
  },
  {
   "cell_type": "code",
   "execution_count": 35,
   "metadata": {},
   "outputs": [
    {
     "name": "stdout",
     "output_type": "stream",
     "text": [
      "<class 'numpy.ndarray'>\n",
      "(512, 512, 3)\n"
     ]
    }
   ],
   "source": [
    "src = cv2.imread('./OpenCV_Python/data/lena.jpg')\n",
    "\n",
    "b, g, r = cv2.split(src)\n",
    "dst = cv2.merge([b, g, r]) # cv2.merge([r, g, b])\n",
    "\n",
    "print(type(dst))\n",
    "print(dst.shape)\n",
    "cv2.imshow('dst',  dst)\n",
    "cv2.waitKey()    \n",
    "cv2.destroyAllWindows()\n"
   ]
  },
  {
   "cell_type": "code",
   "execution_count": 36,
   "metadata": {},
   "outputs": [],
   "source": [
    "src = cv2.imread('./OpenCV_Python/data/lena.jpg')\n",
    "\n",
    "gray   = cv2.cvtColor(src, cv2.COLOR_BGR2GRAY)\n",
    "yCrCv = cv2.cvtColor(src, cv2.COLOR_BGR2YCrCb)\n",
    "hsv    = cv2.cvtColor(src, cv2.COLOR_BGR2HSV)\n",
    "\n",
    "cv2.imshow('gray',  gray)\n",
    "cv2.imshow('yCrCv', yCrCv)\n",
    "cv2.imshow('hsv',   hsv)\n",
    "\n",
    "cv2.waitKey()    \n",
    "cv2.destroyAllWindows()\n"
   ]
  },
  {
   "cell_type": "code",
   "execution_count": 37,
   "metadata": {},
   "outputs": [],
   "source": [
    "import cv2\n",
    "import numpy as np\n",
    "src = cv2.imread('./OpenCV_Python/data/lena.jpg', cv2.IMREAD_GRAYSCALE)\n",
    "\n",
    "dst = cv2.resize(src, dsize=(320, 240))\n",
    "dst2 = cv2.resize(src, dsize=(0,0), fx=1.5, fy=1.2)\n",
    "\n",
    "cv2.imshow('dst', dst)\n",
    "cv2.imshow('dst2', dst2)\n",
    "cv2.waitKey()    \n",
    "cv2.destroyAllWindows()"
   ]
  },
  {
   "cell_type": "code",
   "execution_count": 39,
   "metadata": {},
   "outputs": [],
   "source": [
    "src = cv2.imread('./OpenCV_Python/data/lena.jpg')\n",
    "\n",
    "dst1 = cv2.rotate(src, cv2.ROTATE_90_CLOCKWISE)\n",
    "dst2 = cv2.rotate(src, cv2.ROTATE_90_COUNTERCLOCKWISE)\n",
    "\n",
    "cv2.imshow('dst1',  dst1)\n",
    "cv2.imshow('dst2',  dst2)\n",
    "cv2.waitKey()    \n",
    "cv2.destroyAllWindows()\n"
   ]
  },
  {
   "cell_type": "code",
   "execution_count": null,
   "metadata": {},
   "outputs": [],
   "source": []
  }
 ],
 "metadata": {
  "kernelspec": {
   "display_name": "Python 3",
   "language": "python",
   "name": "python3"
  },
  "language_info": {
   "codemirror_mode": {
    "name": "ipython",
    "version": 3
   },
   "file_extension": ".py",
   "mimetype": "text/x-python",
   "name": "python",
   "nbconvert_exporter": "python",
   "pygments_lexer": "ipython3",
   "version": "3.8.3"
  }
 },
 "nbformat": 4,
 "nbformat_minor": 4
}
