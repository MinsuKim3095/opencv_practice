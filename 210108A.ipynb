{
 "cells": [
  {
   "cell_type": "code",
   "execution_count": 2,
   "metadata": {},
   "outputs": [],
   "source": [
    "import cv2\n",
    "import numpy as np"
   ]
  },
  {
   "cell_type": "code",
   "execution_count": 3,
   "metadata": {},
   "outputs": [
    {
     "data": {
      "text/plain": [
       "<function destroyAllWindows>"
      ]
     },
     "execution_count": 3,
     "metadata": {},
     "output_type": "execute_result"
    }
   ],
   "source": [
    "img = np.zeros(shape = (512, 512, 3), dtype= np.uint8) + 255\n",
    "\n",
    "pt1 = 100,100\n",
    "pt2 = 400,400\n",
    "cv2.rectangle(img,pt1, pt2, (0,255,0), 2)\n",
    "\n",
    "cv2.line(img, (0,0), (500,0), (255,0,0),5)\n",
    "cv2.line(img, (0,0), (0,500), (0,0,255),5)\n",
    "\n",
    "cv2.imshow('img', img)\n",
    "cv2.waitKey()\n",
    "cv2.destroyAllWindows"
   ]
  },
  {
   "cell_type": "code",
   "execution_count": 4,
   "metadata": {},
   "outputs": [],
   "source": [
    "#np.zeros()로 초기화된 배열 생성\n",
    "# shape=(512,512,3)은 512x512 크기의 3채널 컬러영상\n",
    "#dtype=np.uint8은 영상화소가 부호없는 8비트 정수\n",
    "#화소값이 0,0,0이면 black 배경\n",
    "\n",
    "#np.zeros()+255를 하면 영상 채널값이 255로 되어 흰색.\n",
    "#np.ones()는 1로 초기화된 배열\n",
    "#np.full()을 사용하면 배경으로 사용할 컬러를 지정하여 영상 생성가능\n",
    "#cv2.rectangle()로 img영상에 pt1, pt2로 정의한 사각형 넣기\n",
    "#cv2.line()으로 원점(0,0에서 좌표 (500,0)으로 파란색(255,0,0) 그리고 두께 5로 그림\n",
    "#위와 같은데 색만 바꿈(0,0,255) 빨간색\n"
   ]
  },
  {
   "cell_type": "code",
   "execution_count": 5,
   "metadata": {},
   "outputs": [],
   "source": [
    "img = np.zeros(shape = (512,512,3), dtype= np.uint8) + 255\n",
    "\n",
    "x1, x2 = 100,400\n",
    "y1, y2 = 100,400\n",
    "\n",
    "cv2.rectangle(img,(x1,y1), (x2,y2), (0,0,255))\n",
    "\n",
    "pt1 = 120,50\n",
    "pt2 = 300,500\n",
    "cv2.line(img,pt1,pt2, (255,0,0),2)\n",
    "\n",
    "imgRect = (x1, y1, x2-x1, y2-y1)\n",
    "retval, rpt1, rpt2 = cv2.clipLine(imgRect, pt1, pt2)\n",
    "if retval:\n",
    "    cv2.circle(img,rpt1, radius = 5, color=(0,255,0), thickness = -1)\n",
    "    cv2.circle(img,rpt2, radius = 5, color=(0,255,0), thickness = -1)\n",
    "    \n",
    "cv2.imshow('img',img)\n",
    "cv2.waitKey()\n",
    "cv2.destroyAllWindows()"
   ]
  },
  {
   "cell_type": "code",
   "execution_count": 6,
   "metadata": {},
   "outputs": [],
   "source": [
    "#cv2.clipLine(imgRect, pt1,pt2)는 좌표 pt1과 pt2에 의한 직선과 imgRect에 정의된 사각형의 교차좌표 계산.\n",
    "\n",
    "#직선이 사각형과 만나면 retval = True\n",
    "#교차점은 rpt1, rpt2"
   ]
  },
  {
   "cell_type": "code",
   "execution_count": 3,
   "metadata": {},
   "outputs": [],
   "source": [
    "img = np.zeros(shape = (512,512,3), dtype= np.uint8) + 255\n",
    "\n",
    "pt1 = 120,50\n",
    "pt2 = 300,500\n",
    "cv2.line(img,pt1,pt2, (255,0,0),2)\n",
    "\n",
    "cv2.imshow('img',img)\n",
    "cv2.waitKey()\n",
    "cv2.destroyAllWindows()"
   ]
  },
  {
   "cell_type": "code",
   "execution_count": null,
   "metadata": {},
   "outputs": [],
   "source": []
  }
 ],
 "metadata": {
  "kernelspec": {
   "display_name": "Python 3",
   "language": "python",
   "name": "python3"
  },
  "language_info": {
   "codemirror_mode": {
    "name": "ipython",
    "version": 3
   },
   "file_extension": ".py",
   "mimetype": "text/x-python",
   "name": "python",
   "nbconvert_exporter": "python",
   "pygments_lexer": "ipython3",
   "version": "3.8.3"
  }
 },
 "nbformat": 4,
 "nbformat_minor": 4
}
