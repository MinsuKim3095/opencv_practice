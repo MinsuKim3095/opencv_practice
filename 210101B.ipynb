{
 "cells": [
  {
   "cell_type": "code",
   "execution_count": 4,
   "metadata": {},
   "outputs": [
    {
     "name": "stdout",
     "output_type": "stream",
     "text": [
      "start capture ...\n"
     ]
    },
    {
     "data": {
      "image/png": "[encoded data removed]",
      "text/plain": [
       "<Figure size 720x360 with 2 Axes>"
      ]
     },
     "metadata": {
      "needs_background": "light"
     },
     "output_type": "display_data"
    },
    {
     "name": "stdout",
     "output_type": "stream",
     "text": [
      "finish capture.\n"
     ]
    }
   ],
   "source": [
    "# 0215.py\n",
    "import cv2\n",
    "import numpy as np\n",
    "import matplotlib.pyplot as plt\n",
    "import matplotlib.animation as animation\n",
    " \n",
    "class Video(animation.FuncAnimation):\n",
    "    def __init__(self, device=0, fig=None, frames=None,\n",
    "                       interval=80, repeat_delay=5, blit=False, **kwargs):\n",
    "        if fig is None:\n",
    "            self.fig, self.ax = plt.subplots(1, 2, figsize=(10,5))\n",
    "            self.fig.canvas.set_window_title('Video Capture')\n",
    "            self.ax[0].set_position([0, 0, 0.5, 1])\n",
    "            self.ax[0].axis('off')\n",
    "\n",
    "            self.ax[1].set_position([0.5, 0, 0.5, 1])\n",
    "            self.ax[1].axis('off')\n",
    "##            plt.subplots_adjust(left=0,bottom=0,right=1,top=1,\n",
    "##                                wspace=0.05,hspace=0.05)\n",
    "            \n",
    "        super(Video, self).__init__(self.fig, self.updateFrame, init_func=self.init,\n",
    "                                   frames=frames, interval=interval, blit=blit,\n",
    "                                   repeat_delay=repeat_delay, **kwargs)        \n",
    "        self.cap = cv2.VideoCapture(device)\n",
    "        print('start capture ...')\n",
    "        \n",
    "    def init(self): \n",
    "        retval, self.frame = self.cap.read()\n",
    "        if retval:\n",
    "            self.im0 = self.ax[0].imshow(cv2.cvtColor(self.frame, cv2.COLOR_BGR2RGB),\n",
    "                                      aspect = 'auto')\n",
    "            self.im1 = self.ax[1].imshow(np.zeros(self.frame.shape, self.frame.dtype),\n",
    "                                      aspect = 'auto')                    \n",
    "    def updateFrame(self, k):\n",
    "        retval, self.frame = self.cap.read()\n",
    "        if retval:\n",
    "            self.im0.set_array(cv2.cvtColor(self.frame, cv2.COLOR_BGR2RGB))\n",
    "\n",
    "            gray = cv2.cvtColor(self.frame, cv2.COLOR_BGR2GRAY)\n",
    "            self.im1.set_array(cv2.merge((gray,gray,gray)))\n",
    "            \n",
    "    def close(self):\n",
    "        if self.cap.isOpened():\n",
    "            self.cap.release()\n",
    "        print('finish capture.')\n",
    "\n",
    "\n",
    "# 프로그램 시작 \n",
    "camera = Video()\n",
    "plt.show()\n",
    "camera.close()\n"
   ]
  },
  {
   "cell_type": "code",
   "execution_count": 5,
   "metadata": {},
   "outputs": [
    {
     "name": "stdout",
     "output_type": "stream",
     "text": [
      "frame size =  (640, 480)\n"
     ]
    }
   ],
   "source": [
    "cap = cv2.VideoCapture(0)\n",
    "\n",
    "frame_size = (int(cap.get(cv2.CAP_PROP_FRAME_WIDTH)),\n",
    "             int(cap.get(cv2.CAP_PROP_FRAME_HEIGHT)))\n",
    "\n",
    "print('frame size = ', frame_size)\n",
    "\n",
    "while True :\n",
    "    retval, frame=cap.read()\n",
    "    if not retval :\n",
    "        break\n",
    "    cv2.imshow(\"frame\", frame)\n",
    "    \n",
    "    key=cv2.waitKey(25)\n",
    "    if key == 27 : \n",
    "        break\n",
    "if cap.isOpened():\n",
    "    cap.release()\n",
    "cv2.destroyAllWindows()"
   ]
  },
  {
   "cell_type": "code",
   "execution_count": 2,
   "metadata": {},
   "outputs": [],
   "source": [
    "import cv2"
   ]
  },
  {
   "cell_type": "code",
   "execution_count": null,
   "metadata": {},
   "outputs": [],
   "source": []
  }
 ],
 "metadata": {
  "kernelspec": {
   "display_name": "Python 3",
   "language": "python",
   "name": "python3"
  },
  "language_info": {
   "codemirror_mode": {
    "name": "ipython",
    "version": 3
   },
   "file_extension": ".py",
   "mimetype": "text/x-python",
   "name": "python",
   "nbconvert_exporter": "python",
   "pygments_lexer": "ipython3",
   "version": "3.8.3"
  }
 },
 "nbformat": 4,
 "nbformat_minor": 4
}
