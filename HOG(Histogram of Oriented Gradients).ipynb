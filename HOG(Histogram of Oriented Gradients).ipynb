{
 "cells": [
  {
   "cell_type": "code",
   "execution_count": 1,
   "id": "verified-sentence",
   "metadata": {},
   "outputs": [],
   "source": [
    "# HOG를 통해 보행자 검출 알고리즘을 사용해보기"
   ]
  },
  {
   "cell_type": "code",
   "execution_count": 3,
   "id": "animal-kelly",
   "metadata": {},
   "outputs": [],
   "source": [
    "import cv2\n",
    "import os"
   ]
  },
  {
   "cell_type": "code",
   "execution_count": 6,
   "id": "documentary-filling",
   "metadata": {},
   "outputs": [],
   "source": [
    "path = os.path.join('video','./image/test.mp4')\n",
    "\n",
    "hog = cv2.HOGDescriptor()\n",
    "hog.setSVMDetector(cv2.HOGDescriptor_getDefaultPeopleDetector())\n",
    "\n",
    "cap= cv2.VideoCapture(path)\n",
    "while True:\n",
    "    ret, frame = cap.read()\n",
    "    \n",
    "    if not ret:\n",
    "        break\n",
    "        \n",
    "    detected, _ = hog.detectMultiScale(frame)\n",
    "    \n",
    "    for (x,y,w,h) in detected:\n",
    "        cv2.rectangle(frame,(x,y,w,h)(0,255,0),3)\n",
    "        \n",
    "    cv2.imshow('Detect',frame)\n",
    "    if cv2.waitkey(10) == 27:\n",
    "        break\n",
    "\n",
    "cv2.destroyAllWindows()"
   ]
  },
  {
   "cell_type": "code",
   "execution_count": null,
   "id": "possible-consistency",
   "metadata": {},
   "outputs": [],
   "source": []
  }
 ],
 "metadata": {
  "kernelspec": {
   "display_name": "Python 3",
   "language": "python",
   "name": "python3"
  },
  "language_info": {
   "codemirror_mode": {
    "name": "ipython",
    "version": 3
   },
   "file_extension": ".py",
   "mimetype": "text/x-python",
   "name": "python",
   "nbconvert_exporter": "python",
   "pygments_lexer": "ipython3",
   "version": "3.7.7"
  }
 },
 "nbformat": 4,
 "nbformat_minor": 5
}
