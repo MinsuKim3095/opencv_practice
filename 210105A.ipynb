{
 "cells": [
  {
   "cell_type": "code",
   "execution_count": 1,
   "metadata": {},
   "outputs": [
    {
     "name": "stdout",
     "output_type": "stream",
     "text": [
      "mean= [[12.5   1.25]]\n",
      "cov= [[73750.  34875. ]\n",
      " [34875.  26287.5]]\n",
      "icov= [[ 3.63872307e-05 -4.82740722e-05]\n",
      " [-4.82740722e-05  1.02084955e-04]]\n",
      "dist =  0.5051854992128457\n"
     ]
    }
   ],
   "source": [
    "import cv2\n",
    "import numpy as np\n",
    "\n",
    "X = np.array([[0, 0,  0,100,100,150, -100,-150],\n",
    "              [0,50,-50,  0, 30,100,  -20,-100]], dtype=np.float64)\n",
    "X = X.transpose() # X = X.T\n",
    "\n",
    "cov, mean = cv2.calcCovarMatrix(X, mean=None, \n",
    "                               flags = cv2.COVAR_NORMAL + cv2.COVAR_ROWS)\n",
    "print('mean=', mean)\n",
    "print('cov=', cov)\n",
    "\n",
    "ret, icov = cv2.invert(cov)\n",
    "print('icov=',icov)\n",
    "\n",
    "v1 = np.array([[0],[0]] , dtype=np.float64)\n",
    "v2 = np.array([[0],[50]], dtype=np.float64)\n",
    "\n",
    "dist = cv2.Mahalanobis(v1, v2, icov)\n",
    "print('dist = ', dist)\n",
    "                \n",
    "cv2.waitKey()    \n",
    "cv2.destroyAllWindows()\n"
   ]
  },
  {
   "cell_type": "code",
   "execution_count": 2,
   "metadata": {},
   "outputs": [],
   "source": [
    "#X = X.transpose() 는 X.T, X의 전치행렬로 변경하는것"
   ]
  },
  {
   "cell_type": "code",
   "execution_count": 3,
   "metadata": {},
   "outputs": [
    {
     "name": "stdout",
     "output_type": "stream",
     "text": [
      "[[   0.    0.]\n",
      " [   0.   50.]\n",
      " [   0.  -50.]\n",
      " [ 100.    0.]\n",
      " [ 100.   30.]\n",
      " [ 150.  100.]\n",
      " [-100.  -20.]\n",
      " [-150. -100.]]\n"
     ]
    }
   ],
   "source": [
    "print(X)"
   ]
  },
  {
   "cell_type": "code",
   "execution_count": 4,
   "metadata": {},
   "outputs": [
    {
     "name": "stdout",
     "output_type": "stream",
     "text": [
      "[[12.5   1.25]]\n"
     ]
    }
   ],
   "source": [
    "#x,y좌표의 평균 mean이 왜 1x2 열벡터인지 잘 모르겠음\n",
    "print(mean)"
   ]
  },
  {
   "cell_type": "code",
   "execution_count": 5,
   "metadata": {},
   "outputs": [],
   "source": [
    "#cov는 공분산행렬, invert(cov)는 공분산행렬의 역행렬을 의미함"
   ]
  },
  {
   "cell_type": "code",
   "execution_count": 6,
   "metadata": {},
   "outputs": [],
   "source": [
    "#dist는 마하라노비스 통계적거리, 공분산 행렬의 역행렬을 이용하여 계산\n",
    "\n",
    "#((v1-v2)**T * icov * (v1-v2))**1/2"
   ]
  },
  {
   "cell_type": "code",
   "execution_count": 11,
   "metadata": {},
   "outputs": [
    {
     "ename": "error",
     "evalue": "OpenCV(4.4.0) C:\\Users\\appveyor\\AppData\\Local\\Temp\\1\\pip-req-build-9d_dfo3_\\opencv\\modules\\core\\src\\matmul.dispatch.cpp:825: error: (-215:Assertion failed) sz == v2.size() in function 'cv::Mahalanobis'\n",
     "output_type": "error",
     "traceback": [
      "\u001b[1;31m---------------------------------------------------------------------------\u001b[0m",
      "\u001b[1;31merror\u001b[0m                                     Traceback (most recent call last)",
      "\u001b[1;32m<ipython-input-11-abb53132e977>\u001b[0m in \u001b[0;36m<module>\u001b[1;34m\u001b[0m\n\u001b[0;32m     25\u001b[0m         \u001b[0mv2\u001b[0m\u001b[1;33m[\u001b[0m\u001b[1;36m0\u001b[0m\u001b[1;33m,\u001b[0m\u001b[1;36m0\u001b[0m\u001b[1;33m]\u001b[0m \u001b[1;33m=\u001b[0m \u001b[0mx\u001b[0m \u001b[1;33m-\u001b[0m \u001b[0mcenterX\u001b[0m\u001b[1;33m\u001b[0m\u001b[1;33m\u001b[0m\u001b[0m\n\u001b[0;32m     26\u001b[0m         \u001b[0mv2\u001b[0m\u001b[1;33m[\u001b[0m\u001b[1;36m1\u001b[0m\u001b[1;33m,\u001b[0m\u001b[1;36m0\u001b[0m\u001b[1;33m]\u001b[0m \u001b[1;33m=\u001b[0m \u001b[0mFLIP_Y\u001b[0m\u001b[1;33m(\u001b[0m\u001b[0my\u001b[0m\u001b[1;33m)\u001b[0m \u001b[1;33m-\u001b[0m \u001b[0mcenterY\u001b[0m \u001b[1;31m# y-축 뒤집기\u001b[0m\u001b[1;33m\u001b[0m\u001b[1;33m\u001b[0m\u001b[0m\n\u001b[1;32m---> 27\u001b[1;33m         \u001b[0mdist\u001b[0m \u001b[1;33m=\u001b[0m \u001b[0mcv2\u001b[0m\u001b[1;33m.\u001b[0m\u001b[0mMahalanobis\u001b[0m\u001b[1;33m(\u001b[0m\u001b[0mmean\u001b[0m\u001b[1;33m,\u001b[0m \u001b[0mv2\u001b[0m\u001b[1;33m,\u001b[0m \u001b[0micov\u001b[0m\u001b[1;33m)\u001b[0m\u001b[1;33m\u001b[0m\u001b[1;33m\u001b[0m\u001b[0m\n\u001b[0m\u001b[0;32m     28\u001b[0m         \u001b[1;32mif\u001b[0m \u001b[0mdist\u001b[0m \u001b[1;33m<\u001b[0m \u001b[1;36m0.1\u001b[0m\u001b[1;33m:\u001b[0m\u001b[1;33m\u001b[0m\u001b[1;33m\u001b[0m\u001b[0m\n\u001b[0;32m     29\u001b[0m             \u001b[0mdst\u001b[0m\u001b[1;33m[\u001b[0m\u001b[0my\u001b[0m\u001b[1;33m,\u001b[0m \u001b[0mx\u001b[0m\u001b[1;33m]\u001b[0m \u001b[1;33m=\u001b[0m \u001b[1;33m[\u001b[0m\u001b[1;36m50\u001b[0m\u001b[1;33m,\u001b[0m \u001b[1;36m50\u001b[0m\u001b[1;33m,\u001b[0m \u001b[1;36m50\u001b[0m\u001b[1;33m]\u001b[0m\u001b[1;33m\u001b[0m\u001b[1;33m\u001b[0m\u001b[0m\n",
      "\u001b[1;31merror\u001b[0m: OpenCV(4.4.0) C:\\Users\\appveyor\\AppData\\Local\\Temp\\1\\pip-req-build-9d_dfo3_\\opencv\\modules\\core\\src\\matmul.dispatch.cpp:825: error: (-215:Assertion failed) sz == v2.size() in function 'cv::Mahalanobis'\n"
     ]
    }
   ],
   "source": [
    "# 0424.py\n",
    "import cv2\n",
    "import numpy as np\n",
    " \n",
    "X = np.array([[0, 0,  0,100,100,150, -100,-150],\n",
    "                 [0,50,-50,  0, 30,100,  -20,-100]], dtype=np.float64)\n",
    "X = X.transpose() # X = X.T\n",
    "\n",
    "cov, mean = cv2.calcCovarMatrix(X, mean=None,\n",
    "                                    flags=cv2.COVAR_NORMAL+cv2.COVAR_ROWS)\n",
    "ret, icov = cv2.invert(cov)\n",
    "\n",
    "dst = np.full((512,512,3), (255, 255, 255), dtype= np.uint8)\n",
    "rows, cols, channel = dst.shape\n",
    "centerX = cols//2\n",
    "centerY = rows//2\n",
    "\n",
    "v2 = np.zeros((2,1), dtype=np.float64)\n",
    "\n",
    "FLIP_Y = lambda y: rows - 1 - y\n",
    "\n",
    "# draw Mahalanobis distance\n",
    "for y in range(rows):\n",
    "    for x in range(cols):\n",
    "        v2[0,0] = x - centerX\n",
    "        v2[1,0] = FLIP_Y(y) - centerY # y-축 뒤집기 \n",
    "        dist = cv2.Mahalanobis(mean, v2, icov)\n",
    "        if dist < 0.1:\n",
    "            dst[y, x] = [50, 50, 50]\n",
    "        elif dist < 0.3:\n",
    "            dst[y, x] = [100, 100, 100]\n",
    "        elif dist < 0.8:\n",
    "            dst[y, x] = [200, 200, 200]\n",
    "        else:\n",
    "            dst[y, x] = [250, 250, 250]\n",
    "            \n",
    "for k in range(X.shape[0]):\n",
    "    x, y = X[k,:]\n",
    "    cx = int(x+centerX)\n",
    "    cy = int(y+centerY)\n",
    "    cy = FLIP_Y(cy)\n",
    "    cv2.circle(dst,(cx,cy),radius=5,color=(0,0,255),thickness=-1)\n",
    "    \n",
    "# draw X, Y-axes\n",
    "cv2.line(dst, (0, 256), (cols-1, 256), (0, 0, 0))\n",
    "cv2.line(dst, (256,0), (256,rows), (0, 0, 0))\n",
    "\n",
    "# calculate eigen vectors\n",
    "ret, eVals, eVects = cv2.eigen(cov)\n",
    "print('eVals=',  eVals)\n",
    "print('eVects=', eVects)\n",
    "\n",
    "def ptsEigenVector(eVal, eVect):\n",
    "##    global mX, centerX, centerY\n",
    "    scale = np.sqrt(eVal)\n",
    "    x1 = scale*eVect[0]\n",
    "    y1 = scale*eVect[1]\n",
    "    x2, y2 = -x1, -y1 # 대칭\n",
    "\n",
    "    x1 += mean[0,0] + centerX\n",
    "    y1 += mean[0,1] + centerY\n",
    "    x2 += mean[0,0] + centerX\n",
    "    y2 += mean[0,1] + centerY\n",
    "    y1 = FLIP_Y(y1)\n",
    "    y2 = FLIP_Y(y2)\n",
    "    return x1, y1, x2, y2\n",
    " \n",
    "# draw eVects[0]\n",
    "x1, y1, x2, y2 = ptsEigenVector(eVals[0], eVects[0])\n",
    "cv2.line(dst, (x1, y1), (x2, y2), (255, 0, 0), 2)\n",
    "\n",
    "# draw eVects[1]\n",
    "x1, y1, x2, y2 = ptsEigenVector(eVals[1], eVects[1])\n",
    "cv2.line(dst, (x1, y1), (x2, y2), (255, 0, 0), 2)\n",
    "\n",
    "cv2.imshow('dst', dst)               \n",
    "cv2.waitKey()    \n",
    "cv2.destroyAllWindows()\n"
   ]
  },
  {
   "cell_type": "code",
   "execution_count": 12,
   "metadata": {},
   "outputs": [
    {
     "data": {
      "text/plain": [
       "array([[12.5 ,  1.25]])"
      ]
     },
     "execution_count": 12,
     "metadata": {},
     "output_type": "execute_result"
    }
   ],
   "source": [
    "mean"
   ]
  },
  {
   "cell_type": "code",
   "execution_count": 13,
   "metadata": {},
   "outputs": [
    {
     "data": {
      "text/plain": [
       "array([[73750. , 34875. ],\n",
       "       [34875. , 26287.5]])"
      ]
     },
     "execution_count": 13,
     "metadata": {},
     "output_type": "execute_result"
    }
   ],
   "source": [
    "cov"
   ]
  },
  {
   "cell_type": "code",
   "execution_count": 14,
   "metadata": {},
   "outputs": [
    {
     "data": {
      "text/plain": [
       "512"
      ]
     },
     "execution_count": 14,
     "metadata": {},
     "output_type": "execute_result"
    }
   ],
   "source": [
    "rows"
   ]
  },
  {
   "cell_type": "code",
   "execution_count": 15,
   "metadata": {},
   "outputs": [
    {
     "data": {
      "text/plain": [
       "512"
      ]
     },
     "execution_count": 15,
     "metadata": {},
     "output_type": "execute_result"
    }
   ],
   "source": [
    "cols"
   ]
  },
  {
   "cell_type": "code",
   "execution_count": 17,
   "metadata": {},
   "outputs": [
    {
     "data": {
      "text/plain": [
       "3"
      ]
     },
     "execution_count": 17,
     "metadata": {},
     "output_type": "execute_result"
    }
   ],
   "source": [
    "channel"
   ]
  },
  {
   "cell_type": "code",
   "execution_count": 18,
   "metadata": {},
   "outputs": [
    {
     "data": {
      "text/plain": [
       "0"
      ]
     },
     "execution_count": 18,
     "metadata": {},
     "output_type": "execute_result"
    }
   ],
   "source": [
    "y"
   ]
  },
  {
   "cell_type": "code",
   "execution_count": 19,
   "metadata": {},
   "outputs": [
    {
     "data": {
      "text/plain": [
       "array([[-256.],\n",
       "       [ 255.]])"
      ]
     },
     "execution_count": 19,
     "metadata": {},
     "output_type": "execute_result"
    }
   ],
   "source": [
    "v2"
   ]
  },
  {
   "cell_type": "code",
   "execution_count": 22,
   "metadata": {},
   "outputs": [],
   "source": [
    "example = np.zeros((2,1), dtype=np.uint8)"
   ]
  },
  {
   "cell_type": "code",
   "execution_count": 23,
   "metadata": {},
   "outputs": [
    {
     "data": {
      "text/plain": [
       "array([[0],\n",
       "       [0]], dtype=uint8)"
      ]
     },
     "execution_count": 23,
     "metadata": {},
     "output_type": "execute_result"
    }
   ],
   "source": [
    "example"
   ]
  },
  {
   "cell_type": "code",
   "execution_count": 24,
   "metadata": {},
   "outputs": [
    {
     "data": {
      "text/plain": [
       "0"
      ]
     },
     "execution_count": 24,
     "metadata": {},
     "output_type": "execute_result"
    }
   ],
   "source": [
    "x"
   ]
  },
  {
   "cell_type": "code",
   "execution_count": 25,
   "metadata": {},
   "outputs": [
    {
     "name": "stdout",
     "output_type": "stream",
     "text": [
      "mean =  [[12.5   1.25]]\n",
      "eVects =  [[ 0.88390424  0.46766793]\n",
      " [-0.46766793  0.88390424]]\n",
      "Y =  [[ -11.63338792    4.74096885]\n",
      " [  11.75000868   48.93618085]\n",
      " [ -35.01678451  -39.45424315]\n",
      " [  76.75703609  -42.02582434]\n",
      " [  90.78707404  -15.50869713]\n",
      " [ 167.71904127   22.98120308]\n",
      " [-109.37717055   33.82967723]\n",
      " [-190.9858171   -13.49926538]]\n",
      "X2 =  [[ 1.77635684e-15  0.00000000e+00]\n",
      " [ 3.55271368e-15  5.00000000e+01]\n",
      " [ 0.00000000e+00 -5.00000000e+01]\n",
      " [ 1.00000000e+02 -7.10542736e-15]\n",
      " [ 1.00000000e+02  3.00000000e+01]\n",
      " [ 1.50000000e+02  1.00000000e+02]\n",
      " [-1.00000000e+02 -2.00000000e+01]\n",
      " [-1.50000000e+02 -1.00000000e+02]]\n",
      "True\n"
     ]
    }
   ],
   "source": [
    "# 0425.py\n",
    "import cv2\n",
    "import numpy as np\n",
    "\n",
    "X = np.array([[0, 0,  0,100,100,150, -100,-150],\n",
    "                 [0,50,-50,  0, 30,100,  -20,-100]], dtype=np.float64)\n",
    "X = X.transpose() # X = X.T\n",
    "\n",
    "##mean = cv2.reduce(X, 0, cv2.REDUCE_AVG)\n",
    "##print('mean = ', mean)\n",
    "\n",
    "mean, eVects = cv2.PCACompute(X, mean=None)\n",
    "print('mean = ', mean)\n",
    "print('eVects = ', eVects)\n",
    "\n",
    "Y =cv2.PCAProject(X, mean, eVects)\n",
    "print('Y = ', Y)\n",
    "\n",
    "X2 =cv2.PCABackProject(Y, mean, eVects)\n",
    "print('X2 = ', X2)\n",
    "print(np.allclose(X, X2))\n",
    "cv2.waitKey()    \n",
    "cv2.destroyAllWindows()\n"
   ]
  },
  {
   "cell_type": "code",
   "execution_count": null,
   "metadata": {},
   "outputs": [],
   "source": []
  }
 ],
 "metadata": {
  "kernelspec": {
   "display_name": "Python 3",
   "language": "python",
   "name": "python3"
  },
  "language_info": {
   "codemirror_mode": {
    "name": "ipython",
    "version": 3
   },
   "file_extension": ".py",
   "mimetype": "text/x-python",
   "name": "python",
   "nbconvert_exporter": "python",
   "pygments_lexer": "ipython3",
   "version": "3.8.3"
  }
 },
 "nbformat": 4,
 "nbformat_minor": 4
}
