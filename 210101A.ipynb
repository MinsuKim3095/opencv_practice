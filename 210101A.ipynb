{
  "nbformat": 4,
  "nbformat_minor": 0,
  "metadata": {
    "colab": {
      "name": "210101A.ipynb",
      "provenance": [],
      "collapsed_sections": []
    },
    "kernelspec": {
      "name": "python3",
      "display_name": "Python 3"
    }
  },
  "cells": [
    {
      "cell_type": "code",
      "metadata": {
        "id": "NydbYOaI2ezY"
      },
      "source": [
        "import cv2\r\n",
        "import matplotlib.pyplot as plt\r\n",
        "import matplotlib.animation as animation"
      ],
      "execution_count": 1,
      "outputs": []
    },
    {
      "cell_type": "code",
      "metadata": {
        "colab": {
          "base_uri": "https://localhost:8080/",
          "height": 282
        },
        "id": "Eb6D9eoy8nWa",
        "outputId": "d4fadd46-91d7-4638-af94-e0c588b55f77"
      },
      "source": [
        "class Video(animation.FuncAnimation):\r\n",
        "  def __init__(self, device=0, fig=None, frames=None, interval = 50, repeat_delay = 5, blit = False, **kwargs):\r\n",
        "    \r\n",
        "    if fig is None:\r\n",
        "      self.fig = plt.figure()\r\n",
        "      self.fig.canvas.set_window_title('Video Capture')\r\n",
        "      plt.axis('off')\r\n",
        "\r\n",
        "    super(Video, self).__init__(self.fig, self.updateFrame, init_func = self.init,\r\n",
        "                                frames=frames, interval = interval, blit=blit,\r\n",
        "                                repeat_delay = repeat_delay, **kwargs)\r\n",
        "    self.cap = cv2.VideoCapture(device)\r\n",
        "    print('start capture ...')\r\n",
        "\r\n",
        "  def init(self):\r\n",
        "    retval, self.frame = self.cap.read()\r\n",
        "    if retval :\r\n",
        "      self.im = plt.imshow(cv2.cvtColor(self.frame, cv2.COLOR_BGR2RGB))\r\n",
        "\r\n",
        "  def updateFrame(self,k):\r\n",
        "    retval, self.frame = self.cap.read()\r\n",
        "    if retval:\r\n",
        "      self.im.set_array(cv2.cvtColor(camera.frame, cv2.COLOR_BGR2RGB))\r\n",
        "      \r\n",
        "\r\n",
        "  def close(self):\r\n",
        "    if self.cap.isOpened():\r\n",
        "      self.cap.release()\r\n",
        "    print(\"finish capture.\")\r\n",
        "\r\n",
        "camera = Video()\r\n",
        "plt.show()\r\n",
        "camera.close()"
      ],
      "execution_count": 9,
      "outputs": [
        {
          "output_type": "stream",
          "text": [
            "start capture ...\n"
          ],
          "name": "stdout"
        },
        {
          "output_type": "display_data",
          "data": {
            "image/png": "[encoded data removed]",
            "text/plain": [
              "<Figure size 432x288 with 1 Axes>"
            ]
          },
          "metadata": {
            "tags": [],
            "needs_background": "light"
          }
        },
        {
          "output_type": "stream",
          "text": [
            "finish capture.\n"
          ],
          "name": "stdout"
        }
      ]
    },
    {
      "cell_type": "code",
      "metadata": {
        "id": "bxow9YXxBEeL"
      },
      "source": [
        "class Student:\r\n",
        "    name = ''\r\n",
        "\r\n",
        "    korean = 0\r\n",
        "\r\n",
        "    english = 0\r\n",
        "\r\n",
        "    math = 0\r\n",
        "\r\n",
        "    def __init__(self, name, kor, eng, math):\r\n",
        "\r\n",
        "        self.name = name\r\n",
        "\r\n",
        "        self.korean = kor\r\n",
        "\r\n",
        "        self.english = eng\r\n",
        "\r\n",
        "        self.math = math\r\n",
        "\r\n",
        "    def say_hello(self):\r\n",
        "\r\n",
        "        return '안녕하세요 {}님'.format(self.name)\r\n",
        "\r\n",
        "    def average(self):\r\n",
        "\r\n",
        "        return (self.korean + self.english + self.math) / 3"
      ],
      "execution_count": 11,
      "outputs": []
    },
    {
      "cell_type": "code",
      "metadata": {
        "id": "0wXpdL18SIwM"
      },
      "source": [
        "kms = Student('김민수', 90, 85 , 100)"
      ],
      "execution_count": 16,
      "outputs": []
    },
    {
      "cell_type": "code",
      "metadata": {
        "colab": {
          "base_uri": "https://localhost:8080/"
        },
        "id": "8r4JlJ-7SMOD",
        "outputId": "94c496d6-0942-4de4-dbc2-cbeb6bd74926"
      },
      "source": [
        "kms.average()"
      ],
      "execution_count": 17,
      "outputs": [
        {
          "output_type": "execute_result",
          "data": {
            "text/plain": [
              "91.66666666666667"
            ]
          },
          "metadata": {
            "tags": []
          },
          "execution_count": 17
        }
      ]
    },
    {
      "cell_type": "code",
      "metadata": {
        "colab": {
          "base_uri": "https://localhost:8080/"
        },
        "id": "9WuP2uczSPcj",
        "outputId": "3f2cc193-55e7-4af7-8e36-6a53dae8e21d"
      },
      "source": [
        "kms.say_hello"
      ],
      "execution_count": 18,
      "outputs": [
        {
          "output_type": "execute_result",
          "data": {
            "text/plain": [
              "<bound method Student.say_hello of <__main__.Student object at 0x7f7256aa5cf8>>"
            ]
          },
          "metadata": {
            "tags": []
          },
          "execution_count": 18
        }
      ]
    },
    {
      "cell_type": "code",
      "metadata": {
        "colab": {
          "base_uri": "https://localhost:8080/"
        },
        "id": "yxDEfFgBSWmE",
        "outputId": "a02b0f01-6f41-40f3-a99b-c40f83cf24ce"
      },
      "source": [
        "print(kms.say_hello)"
      ],
      "execution_count": 19,
      "outputs": [
        {
          "output_type": "stream",
          "text": [
            "<bound method Student.say_hello of <__main__.Student object at 0x7f7256aa5cf8>>\n"
          ],
          "name": "stdout"
        }
      ]
    },
    {
      "cell_type": "code",
      "metadata": {
        "colab": {
          "base_uri": "https://localhost:8080/",
          "height": 35
        },
        "id": "I0Qj92IQSYQD",
        "outputId": "7d8ac710-a920-40df-fdea-d01159865ee8"
      },
      "source": [
        "kms.say_hello()"
      ],
      "execution_count": 20,
      "outputs": [
        {
          "output_type": "execute_result",
          "data": {
            "application/vnd.google.colaboratory.intrinsic+json": {
              "type": "string"
            },
            "text/plain": [
              "'안녕하세요 김민수님'"
            ]
          },
          "metadata": {
            "tags": []
          },
          "execution_count": 20
        }
      ]
    },
    {
      "cell_type": "code",
      "metadata": {
        "colab": {
          "base_uri": "https://localhost:8080/",
          "height": 425
        },
        "id": "-LKVG_pgSZfD",
        "outputId": "7dd43ee7-381b-4658-9887-2cafe592b935"
      },
      "source": [
        "# 0215.py\r\n",
        "import cv2\r\n",
        "import numpy as np\r\n",
        "import matplotlib.pyplot as plt\r\n",
        "import matplotlib.animation as animation\r\n",
        " \r\n",
        "class Video(animation.FuncAnimation):\r\n",
        "    def __init__(self, device=0, fig=None, frames=None,\r\n",
        "                       interval=80, repeat_delay=5, blit=False, **kwargs):\r\n",
        "        if fig is None:\r\n",
        "            self.fig, self.ax = plt.subplots(1, 2, figsize=(10,5))\r\n",
        "            self.fig.canvas.set_window_title('Video Capture')\r\n",
        "            self.ax[0].set_position([0, 0, 0.5, 1])\r\n",
        "            self.ax[0].axis('off')\r\n",
        "\r\n",
        "            self.ax[1].set_position([0.5, 0, 0.5, 1])\r\n",
        "            self.ax[1].axis('off')\r\n",
        "##            plt.subplots_adjust(left=0,bottom=0,right=1,top=1,\r\n",
        "##                                wspace=0.05,hspace=0.05)\r\n",
        "            \r\n",
        "        super(Video, self).__init__(self.fig, self.updateFrame, init_func=self.init,\r\n",
        "                                   frames=frames, interval=interval, blit=blit,\r\n",
        "                                   repeat_delay=repeat_delay, **kwargs)        \r\n",
        "        self.cap = cv2.VideoCapture(device)\r\n",
        "        print('start capture ...')\r\n",
        "        \r\n",
        "    def init(self): \r\n",
        "        retval, self.frame = self.cap.read()\r\n",
        "        if retval:\r\n",
        "            self.im0 = self.ax[0].imshow(cv2.cvtColor(self.frame, cv2.COLOR_BGR2RGB),\r\n",
        "                                      aspect = 'auto')\r\n",
        "            self.im1 = self.ax[1].imshow(np.zeros(self.frame.shape, self.frame.dtype),\r\n",
        "                                      aspect = 'auto')                    \r\n",
        "    def updateFrame(self, k):\r\n",
        "        retval, self.frame = self.cap.read()\r\n",
        "        if retval:\r\n",
        "            self.im0.set_array(cv2.cvtColor(self.frame, cv2.COLOR_BGR2RGB))\r\n",
        "\r\n",
        "            gray = cv2.cvtColor(self.frame, cv2.COLOR_BGR2GRAY)\r\n",
        "            self.im1.set_array(cv2.merge((gray,gray,gray)))\r\n",
        "            \r\n",
        "    def close(self):\r\n",
        "        if self.cap.isOpened():\r\n",
        "            self.cap.release()\r\n",
        "        print('finish capture.')\r\n",
        "\r\n",
        "\r\n",
        "# 프로그램 시작 \r\n",
        "camera = Video()\r\n",
        "plt.show()\r\n",
        "camera.close()\r\n"
      ],
      "execution_count": 21,
      "outputs": [
        {
          "output_type": "stream",
          "text": [
            "start capture ...\n"
          ],
          "name": "stdout"
        },
        {
          "output_type": "display_data",
          "data": {
            "image/png": "[encoded data removed]",
            "text/plain": [
              "<Figure size 720x360 with 2 Axes>"
            ]
          },
          "metadata": {
            "tags": [],
            "needs_background": "light"
          }
        },
        {
          "output_type": "stream",
          "text": [
            "finish capture.\n"
          ],
          "name": "stdout"
        }
      ]
    },
    {
      "cell_type": "code",
      "metadata": {
        "colab": {
          "base_uri": "https://localhost:8080/"
        },
        "id": "UNmX_98aTaI8",
        "outputId": "2d9f7cd3-4625-4156-a177-e0340b79ee8a"
      },
      "source": [
        "cap = cv2.VideoCapture(0)\r\n",
        "\r\n",
        "frame_size = (int(cap.get(cv2.CAP_PROP_FRAME_WIDTH)),\r\n",
        "             int(cap.get(cv2.CAP_PROP_FRAME_HEIGHT)))\r\n",
        "\r\n",
        "print('frame size = ', frame_size)\r\n",
        "\r\n",
        "while True :\r\n",
        "    retval, frame=cap.read()\r\n",
        "    if not retval :\r\n",
        "        break\r\n",
        "    cv2.imshow(\"frame\", frame)\r\n",
        "    \r\n",
        "    key=waitkey(25)\r\n",
        "    if key == 27 : \r\n",
        "        break\r\n",
        "if cap.isOpened():\r\n",
        "    cap.release()\r\n",
        "cv2.destroyAllWindows()"
      ],
      "execution_count": 22,
      "outputs": [
        {
          "output_type": "stream",
          "text": [
            "frame size =  (0, 0)\n"
          ],
          "name": "stdout"
        }
      ]
    },
    {
      "cell_type": "code",
      "metadata": {
        "id": "7kBwYw5LV8q0"
      },
      "source": [
        ""
      ],
      "execution_count": null,
      "outputs": []
    }
  ]
}